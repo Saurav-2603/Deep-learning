{
 "cells": [
  {
   "cell_type": "markdown",
   "id": "e0bfbb99",
   "metadata": {},
   "source": [
    "# Objectives\n",
    "\n",
    "1. Build a deep learning model to classify infected cells\n",
    "2. Build a simple application using streamlit to classify a given image and highlight the hotspots in the image that influence the prediction\n",
    "    - The hotspots have to be overlayed on the image and displayed in the streamlit app\n",
    "    - Include a video demo of the app using a screen recorder\n",
    "    - Bonus: deploy the streamlit app on a cloud platform (eg: heroku)\n",
    "3. Detail your approach and findings from the dataset in a 2-4 page technical report using a prefered format. Provide the necessary details to rationalize your assumptions and choice of methods.\n",
    "4. Submit an archive containing the code and the report.\n",
    "    - If you used a kaggle kernel, publish it and share the kernel link"
   ]
  },
  {
   "cell_type": "markdown",
   "id": "6ec57d70",
   "metadata": {},
   "source": [
    "# Evaluation criteria\n",
    "\n",
    "The submissions will be evaluated on the following criteria\n",
    "\n",
    "- The different approaches explored and the overall efficiency of the solution\n",
    "- The working of the application for classification and explanation\n",
    "- Effective communication of results through the technical paper\n",
    "- Performance of the final model"
   ]
  },
  {
   "cell_type": "code",
   "execution_count": 1,
   "id": "4b64f361",
   "metadata": {},
   "outputs": [],
   "source": [
    "import numpy as np\n",
    "import pandas as pd\n",
    "import tensorflow as tf\n",
    "import cv2\n",
    "import matplotlib.pyplot as plt\n",
    "import seaborn as sns\n",
    "from PIL import Image\n",
    "import os\n",
    "from keras.preprocessing.image import ImageDataGenerator\n",
    "#print(os.listdir(\"cell_images/cell_images\"))"
   ]
  },
  {
   "cell_type": "code",
   "execution_count": 2,
   "id": "84b37d0a",
   "metadata": {},
   "outputs": [],
   "source": [
    "img_width= 128\n",
    "img_height= 128"
   ]
  },
  {
   "cell_type": "code",
   "execution_count": 3,
   "id": "7079b9ab",
   "metadata": {},
   "outputs": [],
   "source": [
    "datagen= ImageDataGenerator(rescale=1/255.0,validation_split=0.2)"
   ]
  },
  {
   "cell_type": "code",
   "execution_count": 4,
   "id": "6f5c3143",
   "metadata": {},
   "outputs": [
    {
     "name": "stdout",
     "output_type": "stream",
     "text": [
      "Found 22048 images belonging to 2 classes.\n"
     ]
    }
   ],
   "source": [
    "train_data_generator= datagen.flow_from_directory(directory='cell_images/cell_images',target_size=(img_width,img_height),\n",
    "                                                  class_mode='binary',batch_size=16, subset='training')"
   ]
  },
  {
   "cell_type": "code",
   "execution_count": 5,
   "id": "1d4cb6bc",
   "metadata": {},
   "outputs": [
    {
     "name": "stdout",
     "output_type": "stream",
     "text": [
      "Found 5510 images belonging to 2 classes.\n"
     ]
    }
   ],
   "source": [
    "validation_data_generator= datagen.flow_from_directory(directory='cell_images/cell_images',target_size=(img_width,img_height),\n",
    "                                                  class_mode='binary',batch_size=16, subset='validation')"
   ]
  },
  {
   "cell_type": "code",
   "execution_count": 6,
   "id": "774d3438",
   "metadata": {},
   "outputs": [
    {
     "data": {
      "text/plain": [
       "array([0, 0, 0, ..., 1, 1, 1])"
      ]
     },
     "execution_count": 6,
     "metadata": {},
     "output_type": "execute_result"
    }
   ],
   "source": [
    "train_data_generator.labels"
   ]
  },
  {
   "cell_type": "markdown",
   "id": "40639870",
   "metadata": {},
   "source": [
    "# CNN"
   ]
  },
  {
   "cell_type": "code",
   "execution_count": 7,
   "id": "cb7bfc57",
   "metadata": {},
   "outputs": [],
   "source": [
    "from keras import Sequential\n",
    "from keras.layers import Flatten,Dense,Dropout,Conv2D,MaxPool2D\n",
    "from tensorflow.keras.optimizers import Adam"
   ]
  },
  {
   "cell_type": "code",
   "execution_count": 8,
   "id": "42ce08e7",
   "metadata": {},
   "outputs": [],
   "source": [
    "model = Sequential()\n",
    "model.add(Conv2D(16,(3,3),activation='relu',input_shape=(128,128,3)))\n",
    "model.add(MaxPool2D(2,2))\n",
    "model.add(Dropout(0.2))\n",
    "\n",
    "model.add(Conv2D(32,(3,3),activation='relu'))\n",
    "model.add(MaxPool2D(2,2))\n",
    "model.add(Dropout(0.3))\n",
    "\n",
    "model.add(Conv2D(64,(3,3),activation='relu'))\n",
    "model.add(MaxPool2D(2,2))\n",
    "model.add(Dropout(0.3))\n",
    "\n",
    "model.add(Flatten())\n",
    "model.add(Dense(64,activation='relu'))\n",
    "model.add(Dropout(0.5))\n",
    "\n",
    "model.add(Dense(1,activation='sigmoid'))"
   ]
  },
  {
   "cell_type": "code",
   "execution_count": 9,
   "id": "2c12ff7b",
   "metadata": {},
   "outputs": [
    {
     "name": "stdout",
     "output_type": "stream",
     "text": [
      "Model: \"sequential\"\n",
      "_________________________________________________________________\n",
      " Layer (type)                Output Shape              Param #   \n",
      "=================================================================\n",
      " conv2d (Conv2D)             (None, 126, 126, 16)      448       \n",
      "                                                                 \n",
      " max_pooling2d (MaxPooling2D  (None, 63, 63, 16)       0         \n",
      " )                                                               \n",
      "                                                                 \n",
      " dropout (Dropout)           (None, 63, 63, 16)        0         \n",
      "                                                                 \n",
      " conv2d_1 (Conv2D)           (None, 61, 61, 32)        4640      \n",
      "                                                                 \n",
      " max_pooling2d_1 (MaxPooling  (None, 30, 30, 32)       0         \n",
      " 2D)                                                             \n",
      "                                                                 \n",
      " dropout_1 (Dropout)         (None, 30, 30, 32)        0         \n",
      "                                                                 \n",
      " conv2d_2 (Conv2D)           (None, 28, 28, 64)        18496     \n",
      "                                                                 \n",
      " max_pooling2d_2 (MaxPooling  (None, 14, 14, 64)       0         \n",
      " 2D)                                                             \n",
      "                                                                 \n",
      " dropout_2 (Dropout)         (None, 14, 14, 64)        0         \n",
      "                                                                 \n",
      " flatten (Flatten)           (None, 12544)             0         \n",
      "                                                                 \n",
      " dense (Dense)               (None, 64)                802880    \n",
      "                                                                 \n",
      " dropout_3 (Dropout)         (None, 64)                0         \n",
      "                                                                 \n",
      " dense_1 (Dense)             (None, 1)                 65        \n",
      "                                                                 \n",
      "=================================================================\n",
      "Total params: 826,529\n",
      "Trainable params: 826,529\n",
      "Non-trainable params: 0\n",
      "_________________________________________________________________\n"
     ]
    }
   ],
   "source": [
    "model.summary()"
   ]
  },
  {
   "cell_type": "code",
   "execution_count": 10,
   "id": "0f1dc80c",
   "metadata": {},
   "outputs": [],
   "source": [
    "model.compile(optimizer=Adam(),\n",
    "             metrics=['Accuracy'],\n",
    "             loss='binary_crossentropy')"
   ]
  },
  {
   "cell_type": "code",
   "execution_count": 11,
   "id": "c333628b",
   "metadata": {},
   "outputs": [
    {
     "name": "stdout",
     "output_type": "stream",
     "text": [
      "Epoch 1/5\n",
      "1378/1378 [==============================] - 186s 134ms/step - loss: 0.4241 - Accuracy: 0.8082 - val_loss: 0.2001 - val_Accuracy: 0.9285\n",
      "Epoch 2/5\n",
      "1378/1378 [==============================] - 183s 133ms/step - loss: 0.1866 - Accuracy: 0.9432 - val_loss: 0.1696 - val_Accuracy: 0.9454\n",
      "Epoch 3/5\n",
      "1378/1378 [==============================] - 179s 130ms/step - loss: 0.1622 - Accuracy: 0.9535 - val_loss: 0.2017 - val_Accuracy: 0.9419\n",
      "Epoch 4/5\n",
      "1378/1378 [==============================] - 189s 137ms/step - loss: 0.1515 - Accuracy: 0.9560 - val_loss: 0.1906 - val_Accuracy: 0.9423\n",
      "Epoch 5/5\n",
      "1378/1378 [==============================] - 186s 135ms/step - loss: 0.1408 - Accuracy: 0.9563 - val_loss: 0.1919 - val_Accuracy: 0.9426\n"
     ]
    }
   ],
   "source": [
    "history = model.fit(train_data_generator,steps_per_epoch=len(train_data_generator),\n",
    "         epochs=5,validation_data=validation_data_generator,\n",
    "         validation_steps=len(validation_data_generator))"
   ]
  },
  {
   "cell_type": "code",
   "execution_count": null,
   "id": "26b6eb68",
   "metadata": {},
   "outputs": [],
   "source": []
  }
 ],
 "metadata": {
  "kernelspec": {
   "display_name": "Python 3",
   "language": "python",
   "name": "python3"
  },
  "language_info": {
   "codemirror_mode": {
    "name": "ipython",
    "version": 3
   },
   "file_extension": ".py",
   "mimetype": "text/x-python",
   "name": "python",
   "nbconvert_exporter": "python",
   "pygments_lexer": "ipython3",
   "version": "3.8.8"
  }
 },
 "nbformat": 4,
 "nbformat_minor": 5
}
